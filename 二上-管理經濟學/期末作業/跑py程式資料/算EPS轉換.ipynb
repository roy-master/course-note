{
 "cells": [
  {
   "cell_type": "code",
   "execution_count": 1,
   "id": "f603c7c5",
   "metadata": {},
   "outputs": [],
   "source": [
    "import pandas as pd\n",
    "\n",
    "# 定義轉換函數，將季度EPS轉換為月度EPS\n",
    "def process_quarterly_eps_sheet(sheet_df):\n",
    "    month_data = []\n",
    "\n",
    "    # 遍歷每行數據，進行季度到月度的轉換\n",
    "    for i in range(len(sheet_df) - 1):\n",
    "        current_quarter_eps = sheet_df.iloc[i]['每股盈餘']\n",
    "        next_quarter_eps = sheet_df.iloc[i + 1]['每股盈餘']\n",
    "\n",
    "        # 解析\"年/月\"欄位，提取年份和月份\n",
    "        year_month = sheet_df.iloc[i]['年/月']\n",
    "        year, month = map(int, year_month.split('/'))\n",
    "\n",
    "        # 計算每月的線性插值\n",
    "        month_1_eps = current_quarter_eps\n",
    "        month_2_eps = current_quarter_eps + (next_quarter_eps - current_quarter_eps) / 3\n",
    "        month_3_eps = current_quarter_eps + 2 * (next_quarter_eps - current_quarter_eps) / 3\n",
    "\n",
    "        # 根據月份確定對應的季度月份（假設季末在3月、6月、9月和12月）\n",
    "        if month == 3:\n",
    "            months = ['Jan', 'Feb', 'Mar']\n",
    "        elif month == 6:\n",
    "            months = ['Apr', 'May', 'Jun']\n",
    "        elif month == 9:\n",
    "            months = ['Jul', 'Aug', 'Sep']\n",
    "        elif month == 12:\n",
    "            months = ['Oct', 'Nov', 'Dec']\n",
    "\n",
    "        # 將每個月的資料附加到列表\n",
    "        month_data.append({'Year': year, 'Month': months[0], 'EPS': month_1_eps})\n",
    "        month_data.append({'Year': year, 'Month': months[1], 'EPS': month_2_eps})\n",
    "        month_data.append({'Year': year, 'Month': months[2], 'EPS': month_3_eps})\n",
    "\n",
    "    # 將結果轉換為DataFrame\n",
    "    monthly_eps_df = pd.DataFrame(month_data)\n",
    "\n",
    "    return monthly_eps_df"
   ]
  },
  {
   "cell_type": "code",
   "execution_count": 2,
   "id": "16b16a34",
   "metadata": {},
   "outputs": [
    {
     "name": "stdout",
     "output_type": "stream",
     "text": [
      "月度EPS資料已保存至 expanded_monthly_eps_5.xlsx\n"
     ]
    }
   ],
   "source": [
    "# 讀取Excel文件\n",
    "file_path = '文創每股盈餘.xlsx'  # 請將此路徑替換為你的實際檔案路徑\n",
    "excel_file = pd.ExcelFile(file_path)\n",
    "\n",
    "# 準備保存每個工作表處理後的數據\n",
    "monthly_data = {}\n",
    "\n",
    "# 處理每個工作表\n",
    "for sheet in excel_file.sheet_names:\n",
    "    quarterly_eps_df = pd.read_excel(file_path, sheet_name=sheet)\n",
    "    monthly_eps_df = process_quarterly_eps_sheet(quarterly_eps_df)\n",
    "    monthly_data[sheet] = monthly_eps_df\n",
    "\n",
    "# 將結果保存為新的Excel文件\n",
    "output_file_path = 'expanded_monthly_eps_5.xlsx'\n",
    "with pd.ExcelWriter(output_file_path, engine='xlsxwriter') as writer:\n",
    "    for sheet, data in monthly_data.items():\n",
    "        data.to_excel(writer, sheet_name=sheet, index=False)\n",
    "\n",
    "print(f\"月度EPS資料已保存至 {output_file_path}\")\n"
   ]
  },
  {
   "cell_type": "code",
   "execution_count": null,
   "id": "5a645726",
   "metadata": {},
   "outputs": [],
   "source": []
  }
 ],
 "metadata": {
  "kernelspec": {
   "display_name": "Python 3 (ipykernel)",
   "language": "python",
   "name": "python3"
  },
  "language_info": {
   "codemirror_mode": {
    "name": "ipython",
    "version": 3
   },
   "file_extension": ".py",
   "mimetype": "text/x-python",
   "name": "python",
   "nbconvert_exporter": "python",
   "pygments_lexer": "ipython3",
   "version": "3.11.2"
  }
 },
 "nbformat": 4,
 "nbformat_minor": 5
}
