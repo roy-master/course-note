{
 "cells": [
  {
   "cell_type": "code",
   "execution_count": 2,
   "id": "3243ad59",
   "metadata": {},
   "outputs": [
    {
     "name": "stdout",
     "output_type": "stream",
     "text": [
      "已成功將結果輸出到 'monthly_totals.xlsx'\n"
     ]
    }
   ],
   "source": [
    "import pandas as pd\n",
    "\n",
    "# 假設您的數據儲存在 'data.xlsx'，並在第一個工作表\n",
    "# 如果是 CSV 檔案，則可以使用 pd.read_csv('data.csv')\n",
    "df = pd.read_excel('時報 日成交.xlsx')\n",
    "\n",
    "# 確保日期欄位是 datetime 格式\n",
    "df['日期'] = pd.to_datetime(df['日期'], format='%Y/%m/%d')\n",
    "\n",
    "# 增加年和月欄位\n",
    "df['年'] = df['日期'].dt.year\n",
    "df['月'] = df['日期'].dt.month\n",
    "\n",
    "# 按照年和月分組並加總數量\n",
    "monthly_totals = df.groupby(['年', '月'])['數量'].sum().reset_index()\n",
    "\n",
    "# 將年和月轉換成 \"YYYY/M\" 格式的字串\n",
    "monthly_totals['年月'] = monthly_totals['年'].astype(str) + '/' + monthly_totals['月'].astype(str)\n",
    "\n",
    "# 保留年月和總數量欄位\n",
    "output_df = monthly_totals[['年月', '數量']]\n",
    "\n",
    "# 將結果寫入新的 Excel 檔案\n",
    "output_df.to_excel('monthly_totals.xlsx', index=False)\n",
    "\n",
    "print(\"已成功將結果輸出到 'monthly_totals.xlsx'\")\n"
   ]
  },
  {
   "cell_type": "code",
   "execution_count": null,
   "id": "9426f01c",
   "metadata": {},
   "outputs": [],
   "source": []
  }
 ],
 "metadata": {
  "kernelspec": {
   "display_name": "Python 3 (ipykernel)",
   "language": "python",
   "name": "python3"
  },
  "language_info": {
   "codemirror_mode": {
    "name": "ipython",
    "version": 3
   },
   "file_extension": ".py",
   "mimetype": "text/x-python",
   "name": "python",
   "nbconvert_exporter": "python",
   "pygments_lexer": "ipython3",
   "version": "3.11.2"
  }
 },
 "nbformat": 4,
 "nbformat_minor": 5
}
